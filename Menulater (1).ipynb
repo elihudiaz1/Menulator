{
 "cells": [
  {
   "cell_type": "code",
   "execution_count": 28,
   "metadata": {},
   "outputs": [],
   "source": [
    "import os\n",
    "import io\n",
    "from google.cloud import vision\n",
    "import pandas as pd\n",
    "import requests"
   ]
  },
  {
   "cell_type": "code",
   "execution_count": 16,
   "metadata": {},
   "outputs": [],
   "source": [
    "os.environ[\"GOOGLE_APPLICATION_CREDENTIALS\"]= \"menulater.json\""
   ]
  },
  {
   "cell_type": "code",
   "execution_count": 17,
   "metadata": {},
   "outputs": [],
   "source": [
    "client = vision.ImageAnnotatorClient()"
   ]
  },
  {
   "cell_type": "code",
   "execution_count": 19,
   "metadata": {},
   "outputs": [],
   "source": [
    "path = 'txt_img2.jpg'\n",
    "with io.open(path, 'rb') as image_file:\n",
    "        content = image_file.read()"
   ]
  },
  {
   "cell_type": "code",
   "execution_count": 20,
   "metadata": {},
   "outputs": [],
   "source": [
    "image = vision.types.Image(content=content)"
   ]
  },
  {
   "cell_type": "code",
   "execution_count": 26,
   "metadata": {},
   "outputs": [],
   "source": [
    "response = client.text_detection(image=image)  # returns TextAnnotation\n",
    "df = pd.DataFrame(columns=['locale', 'description'])\n",
    "\n",
    "texts = response.text_annotations\n",
    "for text in texts:\n",
    "    df = df.append(\n",
    "        dict(\n",
    "            locale=text.locale,\n",
    "            description=text.description\n",
    "        ),\n",
    "        ignore_index=True\n",
    "    )\n",
    "\n",
    "menu_text = df['description'][0]"
   ]
  },
  {
   "cell_type": "code",
   "execution_count": 32,
   "metadata": {},
   "outputs": [
    {
     "name": "stdout",
     "output_type": "stream",
     "text": [
      "tacmora\n",
      "mexican grill\n",
      "starteas\n",
      "all starteas are seaved with a basket of chips\n",
      "queso dip\n",
      "beef dip\n",
      "guac\n",
      "salsa\n",
      "$ 2\n",
      "salsa trio\n",
      "$ 3\n",
      "tacos\n",
      "classic tacos - hard-shell $6 - soft $6.75\n",
      "3 hard-shell or flour tortilla soft tacos\n",
      "with a choice of ground beef or shredded\n",
      "chicken with lettuce, cheese, & tomato.\n",
      "grilled shrimp tacos - $8.75\n",
      "3 soft tacos with coleslaw, corn pico\n",
      "de gallo, & chipotle mayo dressing\n",
      "veggie tacos - $7\n",
      "3 soft tacos with grilled veggies\n",
      "(zucchini, yell ow squash, bell pepper,\n",
      "tomatoes, & onions), black beans, corn,\n",
      "& ques o fresco.\n",
      "street tacos - $2.75/taco - $7.75/3 tacos\n",
      "3 soft corn tortilla tacos with choice of steak, carnitas,\n",
      "al pastor, grilled chicken. served with cilantro, onion,\n",
      "salsa verde, & salsa roja.\n",
      "southeast tacos - $7.50\n",
      "3 soft flour tortilla tacos served with bre aded chicken\n",
      "breast, colesla w, mix of pico de gallo, black beans, corn,\n",
      "& chipotle sau ce.\n",
      "chavitaco - $3.95\n",
      "stuffed double corn tortilla with cheese, steak, cilantro,\n",
      "onions, guac, & red sauce\n",
      "consuming raw or undercooked meats, poultry, seafood, shellfish, or eggs may increase your risk of foodbourne illness.\n",
      "roies or dietary restrictions so that we can better accomodate you.\n",
      "кс\n",
      "\n"
     ]
    }
   ],
   "source": [
    "print(menu_text.lower())"
   ]
  },
  {
   "cell_type": "code",
   "execution_count": 38,
   "metadata": {},
   "outputs": [],
   "source": [
    "url = \"https://microsoft-azure-translation-v1.p.rapidapi.com/translate\" \n",
    "\n",
    "querystring = {\"from\":\"en\",\"to\":\"es\",\"text\":menu_text.lower()}\n",
    "\n",
    "french = {\"from\":\"en\",\"to\":\"fr\",\"text\":menu_text.lower()}\n",
    "\n",
    "greek = {\"from\":\"en\",\"to\":\"el\",\"text\":menu_text.lower()}\n",
    "\n",
    "headers = {\n",
    "    'x-rapidapi-host': \"microsoft-azure-translation-v1.p.rapidapi.com\",\n",
    "    'x-rapidapi-key': \"ed76afe50bmshea59f83a93e0ac9p182188jsn62287521ab3f\",\n",
    "    'accept': \"application/json\"\n",
    "    }\n",
    "\n",
    "response = requests.request(\"GET\", url, headers=headers, params=querystring)\n",
    "\n",
    "responsefr = requests.request(\"GET\", url, headers=headers, params=french)\n",
    "\n",
    "responseel = requests.request(\"GET\", url, headers=headers, params=greek)"
   ]
  },
  {
   "cell_type": "code",
   "execution_count": 36,
   "metadata": {},
   "outputs": [
    {
     "name": "stdout",
     "output_type": "stream",
     "text": [
      "<string xmlns=\"http://schemas.microsoft.com/2003/10/Serialization/\">tacmora\n",
      "parrilla mexicana\n",
      "starteas\n",
      "todas las starteas están marinadas con una cesta de patatas fritas\n",
      "queso dip\n",
      "salsa de carne\n",
      "guac\n",
      "salsa\n",
      "$ 2\n",
      "trío de salsa\n",
      "$ 3\n",
      "Tacos\n",
      "tacos clásicos - hard-shell $6 - suave $6.75\n",
      "3 tacos suaves de cáscara dura o harina\n",
      "con una selección de carne molida o rallado\n",
      "pollo con lechuga, queso y tomate.\n",
      "tacos de camarones a la parrilla - $8.75\n",
      "3 tacos suaves con ensalada de col, pico de maíz\n",
      "de gallo, y chipotle mayo aderezo\n",
      "tacos vegetarianos - $7\n",
      "3 tacos suaves con verduras a la parrilla\n",
      "(calabacín, grita calabaza, pimiento,\n",
      "tomates, y cebollas), frijoles negros, maíz,\n",
      "&amp; ques o fresco.\n",
      "tacos de calle - $2.75/taco - $7.75/3 tacos\n",
      "3 tacos de tortilla de maíz suave con opción de bistec, carnitas,\n",
      "al pastor, pollo a la parrilla. servido con cilantro, cebolla,\n",
      "salsa verde, y salsa roja.\n",
      "tacos del sureste - $7.50\n",
      "3 tacos de tortilla de harina suave servidos con pollo con estofado\n",
      "pecho, colesla w, mezcla de pico de gallo, frijoles negros, maíz,\n",
      "y chipotle sau ce.\n",
      "chavitaco - $3.95\n",
      "tortilla de maíz doble rellena con queso, bistec, cilantro,\n",
      "cebollas, guac, y salsa roja\n",
      "consumir carnes crudas o poco cocidas, aves de corral, mariscos, mariscos o huevos puede aumentar el riesgo de enfermedades de foodbourne.\n",
      "roies o restricciones dietéticas para que podamos acomodarmejor a usted.\n",
      ". . . . . . . .\n",
      "</string>\n"
     ]
    }
   ],
   "source": [
    "print(response.text)"
   ]
  },
  {
   "cell_type": "code",
   "execution_count": 37,
   "metadata": {},
   "outputs": [
    {
     "name": "stdout",
     "output_type": "stream",
     "text": [
      "<string xmlns=\"http://schemas.microsoft.com/2003/10/Serialization/\">tacmora tacmora\n",
      "grille mexicaine\n",
      "starteas (en)\n",
      "toutes les starteas sont cousues avec un panier de chips\n",
      "trempette queso\n",
      "trempette de bœuf\n",
      "guac guac\n",
      "Salsa\n",
      "2 $\n",
      "trio salsa\n",
      "3 $\n",
      "Tacos\n",
      "tacos classiques - hard-shell $6 - soft $6.75\n",
      "3 tacos mous à coquille dure ou à farine\n",
      "avec un choix de bœuf haché ou râpé\n",
      "poulet avec de la laitue, du fromage, de la tomate.\n",
      "tacos aux crevettes grillées - 8,75 $\n",
      "3 tacos mous avec salade de chou, maïs pico\n",
      "de gallo, vinaigrette mayo chipotle\n",
      "tacos végétariens - 7 $\n",
      "3 tacos doux aux légumes grillés\n",
      "(zucchini, hurler la courge, le poivron,\n",
      "tomates, oignons), haricots noirs, maïs,\n",
      "- ques o fresque.\n",
      "tacos de rue - $2.75/taco - $7.75/3 tacos\n",
      "3 tacos de tortilla de maïs mou avec choix de steak, carnitas,\n",
      "al pasteur, poulet grillé. servi avec coriandre, oignon,\n",
      "salsa verde, salsa roja.\n",
      "tacos du sud-est - 7,50 $\n",
      "3 tacos de tortilla de farine molle servis avec du poulet aded bre\n",
      "sein, colesla w, mélange de pico de gallo, haricots noirs, maïs,\n",
      "Chipotle sau ce.\n",
      "chavitaco - 3,95 $\n",
      "tortilla de maïs farcie avec fromage, steak, coriandre,\n",
      "oignons, guac, sauce rouge\n",
      "la consommation de viandes, de volailles, de fruits de mer, de crustacés ou d’œufs crus ou insuffisamment cuits peut augmenter votre risque de maladie alimentaire.\n",
      "roies ou restrictions alimentaires afin que nous puissions mieux vous accueillir.\n",
      "-\n",
      "</string>\n"
     ]
    }
   ],
   "source": [
    "print(responsefr.text)"
   ]
  },
  {
   "cell_type": "code",
   "execution_count": 39,
   "metadata": {},
   "outputs": [
    {
     "name": "stdout",
     "output_type": "stream",
     "text": [
      "<string xmlns=\"http://schemas.microsoft.com/2003/10/Serialization/\">tacmora\n",
      "Μεξικάνικη σχάρα\n",
      "starteas\n",
      "όλα τα starteas είναι seaved με ένα καλάθι με μάρκες\n",
      "Queso DIP\n",
      "βοδινό ντιπ\n",
      "Γουακαμόλε\n",
      "Salsa\n",
      "$2\n",
      "Τρίο Σάλσα\n",
      "$3\n",
      "Tacos\n",
      "κλασικά τάκος-σκληρό κέλυφος $6-μαλακό $6,75\n",
      "3 σκληρό κέλυφος ή αλεύρι tortilla μαλακά τάκος\n",
      "με μια επιλογή του αλεσμένου βοείου κρέατος ή τεμαχισμένος\n",
      "κοτόπουλο με μαρούλι, τυρί και ντομάτα.\n",
      "γαρίδες ψητό τάκος-$8,75\n",
      "3 μαλακά τάκος με λαχανοσαλάτα, καλαμπόκι Pico\n",
      "ντε Γκάλο, και Μεξικάνικη σάλτσα μαγιονέζας\n",
      "Τάκος λαχανικών-$7\n",
      "3 μαλακά τάκος με ψητά λαχανικά\n",
      "(κολοκυθάκια, φωνάζω κολοκύθα, καμπάνα πιπέρι,\n",
      "ντομάτες, και κρεμμύδια), μαύρα φασόλια, καλαμπόκι,\n",
      "και ques ο τοιχογραφία.\n",
      "Τάκος του δρόμου-$ 2.75/Taco-$ 7.75/3 τάκος\n",
      "3 μαλακά τάκος tortilla καλαμποκιού με την επιλογή της μπριζόλας, Καρνίτας,\n",
      "Αλ πάστορα, ψητό κοτόπουλο. σερβίρεται με κόλιανδρο, κρεμμύδι,\n",
      "Σάλσα Βέρντε, και σάλσα Roja.\n",
      "νοτιοανατολικά τάκος-$7,50\n",
      "3 μαλακά τάκος tortilla αλευριού που σερβίρονται με το κοτόπουλο προστίθεται\n",
      "στήθος, colesla w, μίγμα του Pico de Gallo, μαύρα φασόλια, καλαμπόκι,\n",
      "και μεξικάνικο.\n",
      "chavitaco-$3,95\n",
      "γεμιστό διπλό καλαμπόκι τορτίγια με τυρί, μπριζόλα, κόλιανδρο,\n",
      "κρεμμύδια, Γουακαμόλε, και κόκκινη σάλτσα\n",
      "η κατανάλωση ακατέργαστων ή μαγειρεμένων κρεάτων, πουλερικών, θαλασσινών, οστρακοειδών ή αυγών μπορεί να αυξήσει τον κίνδυνο foodbourne ασθένειας.\n",
      "roies ή διαιτητικούς περιορισμούς ώστε να μπορούμε να σας φιλοξενήσουμε καλύτερα.\n",
      "кс\n",
      "</string>\n"
     ]
    }
   ],
   "source": [
    "print(responseel.text)"
   ]
  },
  {
   "cell_type": "code",
   "execution_count": null,
   "metadata": {},
   "outputs": [],
   "source": []
  }
 ],
 "metadata": {
  "kernelspec": {
   "display_name": "Python 3",
   "language": "python",
   "name": "python3"
  },
  "language_info": {
   "codemirror_mode": {
    "name": "ipython",
    "version": 3
   },
   "file_extension": ".py",
   "mimetype": "text/x-python",
   "name": "python",
   "nbconvert_exporter": "python",
   "pygments_lexer": "ipython3",
   "version": "3.6.9"
  }
 },
 "nbformat": 4,
 "nbformat_minor": 2
}
